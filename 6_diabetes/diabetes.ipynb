{
 "cells": [
  {
   "cell_type": "code",
   "execution_count": 1,
   "id": "591ef64d",
   "metadata": {},
   "outputs": [
    {
     "data": {
      "text/html": [
       "<div>\n",
       "<style scoped>\n",
       "    .dataframe tbody tr th:only-of-type {\n",
       "        vertical-align: middle;\n",
       "    }\n",
       "\n",
       "    .dataframe tbody tr th {\n",
       "        vertical-align: top;\n",
       "    }\n",
       "\n",
       "    .dataframe thead th {\n",
       "        text-align: right;\n",
       "    }\n",
       "</style>\n",
       "<table border=\"1\" class=\"dataframe\">\n",
       "  <thead>\n",
       "    <tr style=\"text-align: right;\">\n",
       "      <th></th>\n",
       "      <th>Pregnancies</th>\n",
       "      <th>Glucose</th>\n",
       "      <th>BloodPressure</th>\n",
       "      <th>SkinThickness</th>\n",
       "      <th>Insulin</th>\n",
       "      <th>BMI</th>\n",
       "      <th>DiabetesPedigreeFunction</th>\n",
       "      <th>Age</th>\n",
       "      <th>Outcome</th>\n",
       "    </tr>\n",
       "  </thead>\n",
       "  <tbody>\n",
       "    <tr>\n",
       "      <th>0</th>\n",
       "      <td>6</td>\n",
       "      <td>148</td>\n",
       "      <td>72</td>\n",
       "      <td>35</td>\n",
       "      <td>0</td>\n",
       "      <td>33.6</td>\n",
       "      <td>0.627</td>\n",
       "      <td>50</td>\n",
       "      <td>1</td>\n",
       "    </tr>\n",
       "    <tr>\n",
       "      <th>1</th>\n",
       "      <td>1</td>\n",
       "      <td>85</td>\n",
       "      <td>66</td>\n",
       "      <td>29</td>\n",
       "      <td>0</td>\n",
       "      <td>26.6</td>\n",
       "      <td>0.351</td>\n",
       "      <td>31</td>\n",
       "      <td>0</td>\n",
       "    </tr>\n",
       "    <tr>\n",
       "      <th>2</th>\n",
       "      <td>8</td>\n",
       "      <td>183</td>\n",
       "      <td>64</td>\n",
       "      <td>0</td>\n",
       "      <td>0</td>\n",
       "      <td>23.3</td>\n",
       "      <td>0.672</td>\n",
       "      <td>32</td>\n",
       "      <td>1</td>\n",
       "    </tr>\n",
       "    <tr>\n",
       "      <th>3</th>\n",
       "      <td>1</td>\n",
       "      <td>89</td>\n",
       "      <td>66</td>\n",
       "      <td>23</td>\n",
       "      <td>94</td>\n",
       "      <td>28.1</td>\n",
       "      <td>0.167</td>\n",
       "      <td>21</td>\n",
       "      <td>0</td>\n",
       "    </tr>\n",
       "    <tr>\n",
       "      <th>4</th>\n",
       "      <td>0</td>\n",
       "      <td>137</td>\n",
       "      <td>40</td>\n",
       "      <td>35</td>\n",
       "      <td>168</td>\n",
       "      <td>43.1</td>\n",
       "      <td>2.288</td>\n",
       "      <td>33</td>\n",
       "      <td>1</td>\n",
       "    </tr>\n",
       "  </tbody>\n",
       "</table>\n",
       "</div>"
      ],
      "text/plain": [
       "   Pregnancies  Glucose  BloodPressure  SkinThickness  Insulin   BMI  \\\n",
       "0            6      148             72             35        0  33.6   \n",
       "1            1       85             66             29        0  26.6   \n",
       "2            8      183             64              0        0  23.3   \n",
       "3            1       89             66             23       94  28.1   \n",
       "4            0      137             40             35      168  43.1   \n",
       "\n",
       "   DiabetesPedigreeFunction  Age  Outcome  \n",
       "0                     0.627   50        1  \n",
       "1                     0.351   31        0  \n",
       "2                     0.672   32        1  \n",
       "3                     0.167   21        0  \n",
       "4                     2.288   33        1  "
      ]
     },
     "execution_count": 1,
     "metadata": {},
     "output_type": "execute_result"
    }
   ],
   "source": [
    "# Import our dependencies\n",
    "from sklearn.model_selection import train_test_split\n",
    "from sklearn.preprocessing import StandardScaler\n",
    "from sklearn.linear_model import LogisticRegression\n",
    "from sklearn.metrics import accuracy_score\n",
    "import pandas as pd\n",
    "import tensorflow as tf\n",
    "\n",
    "# Import our input dataset\n",
    "diabetes_df = pd.read_csv('diabetes.csv')\n",
    "diabetes_df.head()"
   ]
  },
  {
   "cell_type": "code",
   "execution_count": 3,
   "id": "183adafd",
   "metadata": {},
   "outputs": [],
   "source": [
    "# Remove diabetes outcome target from features data\n",
    "y = diabetes_df.Outcome\n",
    "X = diabetes_df.drop(columns = 'Outcome')"
   ]
  },
  {
   "cell_type": "code",
   "execution_count": 4,
   "id": "ff873535",
   "metadata": {},
   "outputs": [],
   "source": [
    "# Split training/test datasets\n",
    "X_train, X_test, y_train, y_test = train_test_split(X, y, random_state=42, stratify=y)"
   ]
  },
  {
   "cell_type": "code",
   "execution_count": 6,
   "id": "015c2ff3",
   "metadata": {},
   "outputs": [],
   "source": [
    "# Preprocess numerical data for neural network\n",
    "\n",
    "# Create a StandardScaler instance\n",
    "scaler = StandardScaler()"
   ]
  },
  {
   "cell_type": "code",
   "execution_count": 7,
   "id": "1a3f9157",
   "metadata": {},
   "outputs": [],
   "source": [
    "# Fit the StandardScaler\n",
    "X_scaler = scaler.fit(X_train)"
   ]
  },
  {
   "cell_type": "code",
   "execution_count": 8,
   "id": "c584c297",
   "metadata": {},
   "outputs": [],
   "source": [
    "# Scale the data\n",
    "X_train_scaled = X_scaler.transform(X_train)\n",
    "X_test_scaled = X_scaler.transform(X_test)"
   ]
  },
  {
   "cell_type": "code",
   "execution_count": 9,
   "id": "1c55b1c2",
   "metadata": {},
   "outputs": [],
   "source": [
    "# Define the logistic regression model\n",
    "log_classifier = LogisticRegression(solver = 'lbfgs', max_iter = 200)"
   ]
  },
  {
   "cell_type": "code",
   "execution_count": 10,
   "id": "1f0a2715",
   "metadata": {},
   "outputs": [
    {
     "data": {
      "text/plain": [
       "LogisticRegression(max_iter=200)"
      ]
     },
     "execution_count": 10,
     "metadata": {},
     "output_type": "execute_result"
    }
   ],
   "source": [
    "# train the model\n",
    "log_classifier.fit(X_train, y_train)"
   ]
  },
  {
   "cell_type": "code",
   "execution_count": 12,
   "id": "2ef862c3",
   "metadata": {},
   "outputs": [
    {
     "name": "stdout",
     "output_type": "stream",
     "text": [
      " Logistic regression model accuracy: 0.729\n"
     ]
    }
   ],
   "source": [
    "# Ebaluate the model\n",
    "y_pred = log_classifier.predict(X_test)\n",
    "\n",
    "print(f' Logistic regression model accuracy: {accuracy_score(y_test, y_pred):.3f}')"
   ]
  },
  {
   "cell_type": "code",
   "execution_count": 14,
   "id": "1dab83f4",
   "metadata": {},
   "outputs": [],
   "source": [
    "# Define the basic neural network model\n",
    "nn_model = tf.keras.models.Sequential()\n",
    "nn_model.add(tf.keras.layers.Dense(units=16, activation='relu', input_dim=8))\n",
    "nn_model.add(tf.keras.layers.Dense(units=1, activation='sigmoid'))"
   ]
  },
  {
   "cell_type": "code",
   "execution_count": 16,
   "id": "3c4e95f6",
   "metadata": {},
   "outputs": [],
   "source": [
    "# Compile the Sequential model together and customize metrics\n",
    "nn_model.compile(loss='binary_crossentropy', optimizer='adam', metrics=['accuracy'])"
   ]
  },
  {
   "cell_type": "code",
   "execution_count": 18,
   "id": "5815277b",
   "metadata": {},
   "outputs": [
    {
     "name": "stdout",
     "output_type": "stream",
     "text": [
      "Epoch 1/50\n",
      "18/18 [==============================] - 0s 726us/step - loss: 0.7289 - accuracy: 0.5486\n",
      "Epoch 2/50\n",
      "18/18 [==============================] - 0s 720us/step - loss: 0.6839 - accuracy: 0.6319\n",
      "Epoch 3/50\n",
      "18/18 [==============================] - 0s 765us/step - loss: 0.6500 - accuracy: 0.6649\n",
      "Epoch 4/50\n",
      "18/18 [==============================] - 0s 599us/step - loss: 0.6214 - accuracy: 0.6927\n",
      "Epoch 5/50\n",
      "18/18 [==============================] - 0s 647us/step - loss: 0.5995 - accuracy: 0.7049\n",
      "Epoch 6/50\n",
      "18/18 [==============================] - 0s 764us/step - loss: 0.5812 - accuracy: 0.7205\n",
      "Epoch 7/50\n",
      "18/18 [==============================] - 0s 765us/step - loss: 0.5665 - accuracy: 0.7135\n",
      "Epoch 8/50\n",
      "18/18 [==============================] - 0s 706us/step - loss: 0.5534 - accuracy: 0.7292\n",
      "Epoch 9/50\n",
      "18/18 [==============================] - 0s 706us/step - loss: 0.5421 - accuracy: 0.7361\n",
      "Epoch 10/50\n",
      "18/18 [==============================] - 0s 706us/step - loss: 0.5324 - accuracy: 0.7552\n",
      "Epoch 11/50\n",
      "18/18 [==============================] - 0s 765us/step - loss: 0.5235 - accuracy: 0.7604\n",
      "Epoch 12/50\n",
      "18/18 [==============================] - 0s 656us/step - loss: 0.5159 - accuracy: 0.7622\n",
      "Epoch 13/50\n",
      "18/18 [==============================] - 0s 605us/step - loss: 0.5090 - accuracy: 0.7674\n",
      "Epoch 14/50\n",
      "18/18 [==============================] - 0s 588us/step - loss: 0.5028 - accuracy: 0.7691\n",
      "Epoch 15/50\n",
      "18/18 [==============================] - 0s 743us/step - loss: 0.4973 - accuracy: 0.7674\n",
      "Epoch 16/50\n",
      "18/18 [==============================] - 0s 775us/step - loss: 0.4924 - accuracy: 0.7708\n",
      "Epoch 17/50\n",
      "18/18 [==============================] - 0s 918us/step - loss: 0.4872 - accuracy: 0.7743\n",
      "Epoch 18/50\n",
      "18/18 [==============================] - 0s 824us/step - loss: 0.4833 - accuracy: 0.7778\n",
      "Epoch 19/50\n",
      "18/18 [==============================] - 0s 797us/step - loss: 0.4795 - accuracy: 0.7760\n",
      "Epoch 20/50\n",
      "18/18 [==============================] - 0s 789us/step - loss: 0.4761 - accuracy: 0.7778\n",
      "Epoch 21/50\n",
      "18/18 [==============================] - 0s 739us/step - loss: 0.4730 - accuracy: 0.7778\n",
      "Epoch 22/50\n",
      "18/18 [==============================] - 0s 707us/step - loss: 0.4704 - accuracy: 0.7760\n",
      "Epoch 23/50\n",
      "18/18 [==============================] - 0s 765us/step - loss: 0.4678 - accuracy: 0.7726\n",
      "Epoch 24/50\n",
      "18/18 [==============================] - 0s 647us/step - loss: 0.4656 - accuracy: 0.7760\n",
      "Epoch 25/50\n",
      "18/18 [==============================] - 0s 734us/step - loss: 0.4637 - accuracy: 0.7795\n",
      "Epoch 26/50\n",
      "18/18 [==============================] - 0s 694us/step - loss: 0.4615 - accuracy: 0.7795\n",
      "Epoch 27/50\n",
      "18/18 [==============================] - 0s 765us/step - loss: 0.4597 - accuracy: 0.7778\n",
      "Epoch 28/50\n",
      "18/18 [==============================] - 0s 821us/step - loss: 0.4584 - accuracy: 0.7812\n",
      "Epoch 29/50\n",
      "18/18 [==============================] - 0s 907us/step - loss: 0.4567 - accuracy: 0.7847\n",
      "Epoch 30/50\n",
      "18/18 [==============================] - 0s 1ms/step - loss: 0.4551 - accuracy: 0.7830\n",
      "Epoch 31/50\n",
      "18/18 [==============================] - 0s 714us/step - loss: 0.4540 - accuracy: 0.7865\n",
      "Epoch 32/50\n",
      "18/18 [==============================] - 0s 647us/step - loss: 0.4525 - accuracy: 0.7865\n",
      "Epoch 33/50\n",
      "18/18 [==============================] - 0s 720us/step - loss: 0.4515 - accuracy: 0.7865\n",
      "Epoch 34/50\n",
      "18/18 [==============================] - 0s 647us/step - loss: 0.4503 - accuracy: 0.7899\n",
      "Epoch 35/50\n",
      "18/18 [==============================] - 0s 706us/step - loss: 0.4495 - accuracy: 0.7865\n",
      "Epoch 36/50\n",
      "18/18 [==============================] - 0s 695us/step - loss: 0.4482 - accuracy: 0.7882\n",
      "Epoch 37/50\n",
      "18/18 [==============================] - 0s 734us/step - loss: 0.4475 - accuracy: 0.7847\n",
      "Epoch 38/50\n",
      "18/18 [==============================] - 0s 706us/step - loss: 0.4461 - accuracy: 0.7830\n",
      "Epoch 39/50\n",
      "18/18 [==============================] - 0s 600us/step - loss: 0.4456 - accuracy: 0.7847\n",
      "Epoch 40/50\n",
      "18/18 [==============================] - 0s 805us/step - loss: 0.4447 - accuracy: 0.7899\n",
      "Epoch 41/50\n",
      "18/18 [==============================] - 0s 781us/step - loss: 0.4438 - accuracy: 0.7865\n",
      "Epoch 42/50\n",
      "18/18 [==============================] - 0s 765us/step - loss: 0.4434 - accuracy: 0.7865\n",
      "Epoch 43/50\n",
      "18/18 [==============================] - 0s 882us/step - loss: 0.4426 - accuracy: 0.7847\n",
      "Epoch 44/50\n",
      "18/18 [==============================] - 0s 877us/step - loss: 0.4415 - accuracy: 0.7830\n",
      "Epoch 45/50\n",
      "18/18 [==============================] - 0s 765us/step - loss: 0.4408 - accuracy: 0.7847\n",
      "Epoch 46/50\n",
      "18/18 [==============================] - 0s 895us/step - loss: 0.4403 - accuracy: 0.7847\n",
      "Epoch 47/50\n",
      "18/18 [==============================] - 0s 1ms/step - loss: 0.4394 - accuracy: 0.7847\n",
      "Epoch 48/50\n",
      "18/18 [==============================] - 0s 953us/step - loss: 0.4390 - accuracy: 0.7847\n",
      "Epoch 49/50\n",
      "18/18 [==============================] - 0s 815us/step - loss: 0.4381 - accuracy: 0.7847\n",
      "Epoch 50/50\n",
      "18/18 [==============================] - 0s 786us/step - loss: 0.4376 - accuracy: 0.7812\n"
     ]
    }
   ],
   "source": [
    "# Train the model\n",
    "fit_model = nn_model.fit(X_train_scaled, y_train, epochs=50)"
   ]
  },
  {
   "cell_type": "code",
   "execution_count": 21,
   "id": "e5318991",
   "metadata": {},
   "outputs": [
    {
     "name": "stdout",
     "output_type": "stream",
     "text": [
      "6/6 - 0s - loss: 81.4116 - accuracy: 0.3490\n",
      "Loss: 81.41162872314453, Accuracy: 0.3489583432674408\n"
     ]
    }
   ],
   "source": [
    "# Evaluate the model using the test data\n",
    "model_loss, model_accuracy = nn_model.evaluate(X_test, y_test, verbose=2)\n",
    "print(f'Loss: {model_loss}, Accuracy: {model_accuracy}')"
   ]
  },
  {
   "cell_type": "code",
   "execution_count": null,
   "id": "98e41894",
   "metadata": {},
   "outputs": [],
   "source": []
  }
 ],
 "metadata": {
  "kernelspec": {
   "display_name": "mlenv",
   "language": "python",
   "name": "mlenv"
  },
  "language_info": {
   "codemirror_mode": {
    "name": "ipython",
    "version": 3
   },
   "file_extension": ".py",
   "mimetype": "text/x-python",
   "name": "python",
   "nbconvert_exporter": "python",
   "pygments_lexer": "ipython3",
   "version": "3.7.10"
  }
 },
 "nbformat": 4,
 "nbformat_minor": 5
}
